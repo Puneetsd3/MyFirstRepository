{
 "cells": [
  {
   "cell_type": "markdown",
   "id": "7806e3ba-a33b-4d14-84a4-cb9d437a06d4",
   "metadata": {},
   "source": [
    "# H1: Data Science Tools and Ecosystem"
   ]
  },
  {
   "cell_type": "markdown",
   "id": "cdaef25b-840b-4c0d-b8b0-94ad923bf8e3",
   "metadata": {},
   "source": [
    "In this notebook, Data Science Tools and Ecosystem are summarized."
   ]
  },
  {
   "cell_type": "markdown",
   "id": "e211e046-5a55-427d-8b43-71d9e86abb24",
   "metadata": {},
   "source": [
    "Objectives:\n",
    "- List popular languages for Data Science\n",
    "- List commonly used libraries used by Data Scientist\n",
    "- List of open-source development tools\n",
    "\n",
    "## H2: Author\n",
    "       Puneet Suresh Devadiga"
   ]
  },
  {
   "cell_type": "markdown",
   "id": "7a762546-887a-4abe-b6ac-49c09f677b45",
   "metadata": {},
   "source": [
    "Some of the popular languages that Data Scientists use are:"
   ]
  },
  {
   "cell_type": "markdown",
   "id": "6e1b84cd-ac26-476c-8218-fa2cb168d03e",
   "metadata": {},
   "source": [
    "1. Python\n",
    "2. R\n",
    "3. SQL\n",
    "4. Scala\n",
    "5. Java\n",
    "6. C++\n",
    "7. Julia"
   ]
  },
  {
   "cell_type": "markdown",
   "id": "520b434d-3bd7-472b-be31-04eb1a9901f8",
   "metadata": {},
   "source": [
    "Some of the commonly used libraries used by Data Scientists include:"
   ]
  },
  {
   "cell_type": "markdown",
   "id": "ce6a4943-789f-4eeb-b43e-ab5be445e69d",
   "metadata": {},
   "source": [
    "1. NumPy\n",
    "2. pandas\n",
    "3. scikit-learn"
   ]
  },
  {
   "cell_type": "markdown",
   "id": "fb2ae9f8-9ad2-4c98-955a-3318cf6b73f9",
   "metadata": {},
   "source": [
    "|Data Science Tools|\n",
    "| ---------------- |\n",
    "|Git|\n",
    "|GitHub|\n",
    "|GitLab|"
   ]
  },
  {
   "cell_type": "markdown",
   "id": "8cab42c0-9529-4606-81d9-687b2304083d",
   "metadata": {},
   "source": [
    "### H3: Below are a few examples of evaluating arithmetic expressions in Python"
   ]
  },
  {
   "cell_type": "code",
   "execution_count": 2,
   "id": "fe5d3f3e-00c4-45b6-8977-1626fc2950d8",
   "metadata": {},
   "outputs": [
    {
     "data": {
      "text/plain": [
       "17"
      ]
     },
     "execution_count": 2,
     "metadata": {},
     "output_type": "execute_result"
    }
   ],
   "source": [
    "## This a simple arithmetic expression to multiply then add integers.\n",
    "(3*4)+5"
   ]
  },
  {
   "cell_type": "code",
   "execution_count": 6,
   "id": "a76f48bd-3032-4936-9543-8fb090e373a8",
   "metadata": {},
   "outputs": [
    {
     "data": {
      "text/plain": [
       "3.3333333333333335"
      ]
     },
     "execution_count": 6,
     "metadata": {},
     "output_type": "execute_result"
    }
   ],
   "source": [
    "## This will convert 200 minutes to hours by diving by 60.\n",
    "200/60"
   ]
  },
  {
   "cell_type": "code",
   "execution_count": null,
   "id": "9a48c082-a2dc-421c-9e4f-92926ce582f6",
   "metadata": {},
   "outputs": [],
   "source": []
  }
 ],
 "metadata": {
  "kernelspec": {
   "display_name": "Python 3 (ipykernel)",
   "language": "python",
   "name": "python3"
  },
  "language_info": {
   "codemirror_mode": {
    "name": "ipython",
    "version": 3
   },
   "file_extension": ".py",
   "mimetype": "text/x-python",
   "name": "python",
   "nbconvert_exporter": "python",
   "pygments_lexer": "ipython3",
   "version": "3.11.7"
  }
 },
 "nbformat": 4,
 "nbformat_minor": 5
}
